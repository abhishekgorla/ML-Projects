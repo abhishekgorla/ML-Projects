{
 "cells": [
  {
   "cell_type": "code",
   "execution_count": 1,
   "metadata": {},
   "outputs": [],
   "source": [
    "# utilities\n",
    "import re\n",
    "import numpy as np\n",
    "import pandas as pd\n",
    "import seaborn as sns\n",
    "import matplotlib.pyplot as plt\n",
    "from nltk.stem import WordNetLemmatizer\n",
    "from nltk.corpus import stopwords\n",
    "import plotly.graph_objects as go"
   ]
  },
  {
   "cell_type": "code",
   "execution_count": 2,
   "metadata": {},
   "outputs": [],
   "source": [
    "from nltk.stem import PorterStemmer"
   ]
  },
  {
   "cell_type": "code",
   "execution_count": 3,
   "metadata": {},
   "outputs": [],
   "source": [
    "from sklearn.linear_model import LogisticRegression\n",
    "from sklearn.model_selection import train_test_split\n",
    "from sklearn.feature_extraction.text import TfidfVectorizer\n",
    "from sklearn.metrics import confusion_matrix, classification_report"
   ]
  },
  {
   "cell_type": "code",
   "execution_count": 4,
   "metadata": {},
   "outputs": [],
   "source": [
    "header_list = [\"target\", \"ids\", \"date\", \"flag\", \"user\", \"text\"]\n",
    "data_encoding = \"ISO-8859-1\"\n",
    "df = pd.read_csv(\"training.1600000.processed.noemoticon.csv\", encoding = data_encoding, names=header_list)"
   ]
  },
  {
   "cell_type": "code",
   "execution_count": 5,
   "metadata": {},
   "outputs": [
    {
     "data": {
      "text/plain": [
       "(50000, 6)"
      ]
     },
     "execution_count": 5,
     "metadata": {},
     "output_type": "execute_result"
    }
   ],
   "source": [
    "df = df.sample(n = 50000, random_state = 2)\n",
    "df.shape\n"
   ]
  },
  {
   "cell_type": "code",
   "execution_count": 6,
   "metadata": {},
   "outputs": [
    {
     "data": {
      "text/html": [
       "<div>\n",
       "<style scoped>\n",
       "    .dataframe tbody tr th:only-of-type {\n",
       "        vertical-align: middle;\n",
       "    }\n",
       "\n",
       "    .dataframe tbody tr th {\n",
       "        vertical-align: top;\n",
       "    }\n",
       "\n",
       "    .dataframe thead th {\n",
       "        text-align: right;\n",
       "    }\n",
       "</style>\n",
       "<table border=\"1\" class=\"dataframe\">\n",
       "  <thead>\n",
       "    <tr style=\"text-align: right;\">\n",
       "      <th></th>\n",
       "      <th>text</th>\n",
       "      <th>target</th>\n",
       "    </tr>\n",
       "  </thead>\n",
       "  <tbody>\n",
       "    <tr>\n",
       "      <th>670081</th>\n",
       "      <td>@brodiejay OH IM GOING THERE! Wow Mona Vale is...</td>\n",
       "      <td>0</td>\n",
       "    </tr>\n",
       "    <tr>\n",
       "      <th>408251</th>\n",
       "      <td>my baby's growing up</td>\n",
       "      <td>0</td>\n",
       "    </tr>\n",
       "    <tr>\n",
       "      <th>1559739</th>\n",
       "      <td>Painted Black-Rolling Stones..the best!</td>\n",
       "      <td>4</td>\n",
       "    </tr>\n",
       "    <tr>\n",
       "      <th>571248</th>\n",
       "      <td>kk, i'm logging off now  BYEZZ!</td>\n",
       "      <td>0</td>\n",
       "    </tr>\n",
       "    <tr>\n",
       "      <th>524639</th>\n",
       "      <td>Shitty shitty shitty news today</td>\n",
       "      <td>0</td>\n",
       "    </tr>\n",
       "  </tbody>\n",
       "</table>\n",
       "</div>"
      ],
      "text/plain": [
       "                                                      text  target\n",
       "670081   @brodiejay OH IM GOING THERE! Wow Mona Vale is...       0\n",
       "408251                               my baby's growing up        0\n",
       "1559739          Painted Black-Rolling Stones..the best!         4\n",
       "571248                     kk, i'm logging off now  BYEZZ!       0\n",
       "524639                    Shitty shitty shitty news today        0"
      ]
     },
     "execution_count": 6,
     "metadata": {},
     "output_type": "execute_result"
    }
   ],
   "source": [
    "data=df[['text','target']]\n",
    "data.head()"
   ]
  },
  {
   "cell_type": "code",
   "execution_count": 7,
   "metadata": {},
   "outputs": [
    {
     "data": {
      "text/plain": [
       "array([24907, 25093], dtype=int64)"
      ]
     },
     "execution_count": 7,
     "metadata": {},
     "output_type": "execute_result"
    }
   ],
   "source": [
    "#Check Distribution of data\n",
    "balance_counts = data.groupby('target')['target'].agg('count').values\n",
    "balance_counts"
   ]
  },
  {
   "cell_type": "code",
   "execution_count": 8,
   "metadata": {},
   "outputs": [],
   "source": [
    "#preprocessing\n",
    "# Special thanks to https://www.kaggle.com/tanulsingh077 for this function\n",
    "def clean_text(text):\n",
    "    '''Make text lowercase, remove text in square brackets,remove links,remove punctuation\n",
    "    and remove words containing numbers.'''\n",
    "    text = str(text).lower()\n",
    "    text = re.sub('\\[.*?\\]', '', text)\n",
    "    text = re.sub('https?://\\S+|www\\.\\S+', '', text)\n",
    "    text = re.sub('<.*?>+', '', text)\n",
    "    text = re.sub('\\n', '', text)\n",
    "    text = re.sub('\\w*\\d\\w*', '', text)\n",
    "    return text"
   ]
  },
  {
   "cell_type": "code",
   "execution_count": 9,
   "metadata": {},
   "outputs": [
    {
     "data": {
      "text/html": [
       "<div>\n",
       "<style scoped>\n",
       "    .dataframe tbody tr th:only-of-type {\n",
       "        vertical-align: middle;\n",
       "    }\n",
       "\n",
       "    .dataframe tbody tr th {\n",
       "        vertical-align: top;\n",
       "    }\n",
       "\n",
       "    .dataframe thead th {\n",
       "        text-align: right;\n",
       "    }\n",
       "</style>\n",
       "<table border=\"1\" class=\"dataframe\">\n",
       "  <thead>\n",
       "    <tr style=\"text-align: right;\">\n",
       "      <th></th>\n",
       "      <th>target</th>\n",
       "      <th>ids</th>\n",
       "      <th>date</th>\n",
       "      <th>flag</th>\n",
       "      <th>user</th>\n",
       "      <th>text</th>\n",
       "      <th>text_clean</th>\n",
       "    </tr>\n",
       "  </thead>\n",
       "  <tbody>\n",
       "    <tr>\n",
       "      <th>670081</th>\n",
       "      <td>0</td>\n",
       "      <td>2246455751</td>\n",
       "      <td>Fri Jun 19 17:37:19 PDT 2009</td>\n",
       "      <td>NO_QUERY</td>\n",
       "      <td>louiseisanelf</td>\n",
       "      <td>@brodiejay OH IM GOING THERE! Wow Mona Vale is...</td>\n",
       "      <td>@brodiejay oh im going there! wow mona vale is...</td>\n",
       "    </tr>\n",
       "    <tr>\n",
       "      <th>408251</th>\n",
       "      <td>0</td>\n",
       "      <td>2059364084</td>\n",
       "      <td>Sat Jun 06 16:47:03 PDT 2009</td>\n",
       "      <td>NO_QUERY</td>\n",
       "      <td>MrsAmarieB</td>\n",
       "      <td>my baby's growing up</td>\n",
       "      <td>my baby's growing up</td>\n",
       "    </tr>\n",
       "    <tr>\n",
       "      <th>1559739</th>\n",
       "      <td>4</td>\n",
       "      <td>2186151891</td>\n",
       "      <td>Mon Jun 15 18:25:49 PDT 2009</td>\n",
       "      <td>NO_QUERY</td>\n",
       "      <td>epallaviccini</td>\n",
       "      <td>Painted Black-Rolling Stones..the best!</td>\n",
       "      <td>painted black-rolling stones..the best!</td>\n",
       "    </tr>\n",
       "    <tr>\n",
       "      <th>571248</th>\n",
       "      <td>0</td>\n",
       "      <td>2208723981</td>\n",
       "      <td>Wed Jun 17 09:33:02 PDT 2009</td>\n",
       "      <td>NO_QUERY</td>\n",
       "      <td>Kiwitabby</td>\n",
       "      <td>kk, i'm logging off now  BYEZZ!</td>\n",
       "      <td>kk, i'm logging off now  byezz!</td>\n",
       "    </tr>\n",
       "    <tr>\n",
       "      <th>524639</th>\n",
       "      <td>0</td>\n",
       "      <td>2193564503</td>\n",
       "      <td>Tue Jun 16 08:37:46 PDT 2009</td>\n",
       "      <td>NO_QUERY</td>\n",
       "      <td>annaqui</td>\n",
       "      <td>Shitty shitty shitty news today</td>\n",
       "      <td>shitty shitty shitty news today</td>\n",
       "    </tr>\n",
       "  </tbody>\n",
       "</table>\n",
       "</div>"
      ],
      "text/plain": [
       "         target         ids                          date      flag  \\\n",
       "670081        0  2246455751  Fri Jun 19 17:37:19 PDT 2009  NO_QUERY   \n",
       "408251        0  2059364084  Sat Jun 06 16:47:03 PDT 2009  NO_QUERY   \n",
       "1559739       4  2186151891  Mon Jun 15 18:25:49 PDT 2009  NO_QUERY   \n",
       "571248        0  2208723981  Wed Jun 17 09:33:02 PDT 2009  NO_QUERY   \n",
       "524639        0  2193564503  Tue Jun 16 08:37:46 PDT 2009  NO_QUERY   \n",
       "\n",
       "                  user                                               text  \\\n",
       "670081   louiseisanelf  @brodiejay OH IM GOING THERE! Wow Mona Vale is...   \n",
       "408251      MrsAmarieB                              my baby's growing up    \n",
       "1559739  epallaviccini          Painted Black-Rolling Stones..the best!     \n",
       "571248       Kiwitabby                    kk, i'm logging off now  BYEZZ!   \n",
       "524639         annaqui                   Shitty shitty shitty news today    \n",
       "\n",
       "                                                text_clean  \n",
       "670081   @brodiejay oh im going there! wow mona vale is...  \n",
       "408251                               my baby's growing up   \n",
       "1559739          painted black-rolling stones..the best!    \n",
       "571248                     kk, i'm logging off now  byezz!  \n",
       "524639                    shitty shitty shitty news today   "
      ]
     },
     "execution_count": 9,
     "metadata": {},
     "output_type": "execute_result"
    }
   ],
   "source": [
    "df['text_clean'] = df['text'].apply(clean_text)\n",
    "df.head()"
   ]
  },
  {
   "cell_type": "code",
   "execution_count": 10,
   "metadata": {
    "scrolled": true
   },
   "outputs": [
    {
     "data": {
      "text/html": [
       "<div>\n",
       "<style scoped>\n",
       "    .dataframe tbody tr th:only-of-type {\n",
       "        vertical-align: middle;\n",
       "    }\n",
       "\n",
       "    .dataframe tbody tr th {\n",
       "        vertical-align: top;\n",
       "    }\n",
       "\n",
       "    .dataframe thead th {\n",
       "        text-align: right;\n",
       "    }\n",
       "</style>\n",
       "<table border=\"1\" class=\"dataframe\">\n",
       "  <thead>\n",
       "    <tr style=\"text-align: right;\">\n",
       "      <th></th>\n",
       "      <th>target</th>\n",
       "      <th>ids</th>\n",
       "      <th>date</th>\n",
       "      <th>flag</th>\n",
       "      <th>user</th>\n",
       "      <th>text</th>\n",
       "      <th>text_clean</th>\n",
       "    </tr>\n",
       "  </thead>\n",
       "  <tbody>\n",
       "    <tr>\n",
       "      <th>670081</th>\n",
       "      <td>0</td>\n",
       "      <td>2246455751</td>\n",
       "      <td>Fri Jun 19 17:37:19 PDT 2009</td>\n",
       "      <td>NO_QUERY</td>\n",
       "      <td>louiseisanelf</td>\n",
       "      <td>@brodiejay OH IM GOING THERE! Wow Mona Vale is...</td>\n",
       "      <td>@brodiejay oh going there! wow mona vale real ...</td>\n",
       "    </tr>\n",
       "    <tr>\n",
       "      <th>408251</th>\n",
       "      <td>0</td>\n",
       "      <td>2059364084</td>\n",
       "      <td>Sat Jun 06 16:47:03 PDT 2009</td>\n",
       "      <td>NO_QUERY</td>\n",
       "      <td>MrsAmarieB</td>\n",
       "      <td>my baby's growing up</td>\n",
       "      <td>baby's growing</td>\n",
       "    </tr>\n",
       "    <tr>\n",
       "      <th>1559739</th>\n",
       "      <td>4</td>\n",
       "      <td>2186151891</td>\n",
       "      <td>Mon Jun 15 18:25:49 PDT 2009</td>\n",
       "      <td>NO_QUERY</td>\n",
       "      <td>epallaviccini</td>\n",
       "      <td>Painted Black-Rolling Stones..the best!</td>\n",
       "      <td>painted black-rolling stones..the best!</td>\n",
       "    </tr>\n",
       "    <tr>\n",
       "      <th>571248</th>\n",
       "      <td>0</td>\n",
       "      <td>2208723981</td>\n",
       "      <td>Wed Jun 17 09:33:02 PDT 2009</td>\n",
       "      <td>NO_QUERY</td>\n",
       "      <td>Kiwitabby</td>\n",
       "      <td>kk, i'm logging off now  BYEZZ!</td>\n",
       "      <td>kk, i'm logging  byezz!</td>\n",
       "    </tr>\n",
       "    <tr>\n",
       "      <th>524639</th>\n",
       "      <td>0</td>\n",
       "      <td>2193564503</td>\n",
       "      <td>Tue Jun 16 08:37:46 PDT 2009</td>\n",
       "      <td>NO_QUERY</td>\n",
       "      <td>annaqui</td>\n",
       "      <td>Shitty shitty shitty news today</td>\n",
       "      <td>shitty shitty shitty news today</td>\n",
       "    </tr>\n",
       "  </tbody>\n",
       "</table>\n",
       "</div>"
      ],
      "text/plain": [
       "         target         ids                          date      flag  \\\n",
       "670081        0  2246455751  Fri Jun 19 17:37:19 PDT 2009  NO_QUERY   \n",
       "408251        0  2059364084  Sat Jun 06 16:47:03 PDT 2009  NO_QUERY   \n",
       "1559739       4  2186151891  Mon Jun 15 18:25:49 PDT 2009  NO_QUERY   \n",
       "571248        0  2208723981  Wed Jun 17 09:33:02 PDT 2009  NO_QUERY   \n",
       "524639        0  2193564503  Tue Jun 16 08:37:46 PDT 2009  NO_QUERY   \n",
       "\n",
       "                  user                                               text  \\\n",
       "670081   louiseisanelf  @brodiejay OH IM GOING THERE! Wow Mona Vale is...   \n",
       "408251      MrsAmarieB                              my baby's growing up    \n",
       "1559739  epallaviccini          Painted Black-Rolling Stones..the best!     \n",
       "571248       Kiwitabby                    kk, i'm logging off now  BYEZZ!   \n",
       "524639         annaqui                   Shitty shitty shitty news today    \n",
       "\n",
       "                                                text_clean  \n",
       "670081   @brodiejay oh going there! wow mona vale real ...  \n",
       "408251                                     baby's growing   \n",
       "1559739          painted black-rolling stones..the best!    \n",
       "571248                             kk, i'm logging  byezz!  \n",
       "524639                    shitty shitty shitty news today   "
      ]
     },
     "execution_count": 10,
     "metadata": {},
     "output_type": "execute_result"
    }
   ],
   "source": [
    "stop_words = stopwords.words('english')\n",
    "more_stopwords = ['u', 'im', 'c']\n",
    "stop_words = stop_words + more_stopwords\n",
    "\n",
    "def remove_stopwords(text):\n",
    "    text = ' '.join(word for word in text.split(' ') if word not in stop_words)\n",
    "    return text\n",
    "    \n",
    "df['text_clean'] = df['text_clean'].apply(remove_stopwords)\n",
    "df.head()"
   ]
  },
  {
   "cell_type": "code",
   "execution_count": 11,
   "metadata": {},
   "outputs": [],
   "source": [
    "#Stemming\n",
    "stemmer = PorterStemmer()\n",
    "\n",
    "def stemm_text(text):\n",
    "    text = ' '.join(stemmer.stem(word) for word in text.split(' '))\n",
    "    return text"
   ]
  },
  {
   "cell_type": "code",
   "execution_count": 12,
   "metadata": {},
   "outputs": [
    {
     "data": {
      "text/html": [
       "<div>\n",
       "<style scoped>\n",
       "    .dataframe tbody tr th:only-of-type {\n",
       "        vertical-align: middle;\n",
       "    }\n",
       "\n",
       "    .dataframe tbody tr th {\n",
       "        vertical-align: top;\n",
       "    }\n",
       "\n",
       "    .dataframe thead th {\n",
       "        text-align: right;\n",
       "    }\n",
       "</style>\n",
       "<table border=\"1\" class=\"dataframe\">\n",
       "  <thead>\n",
       "    <tr style=\"text-align: right;\">\n",
       "      <th></th>\n",
       "      <th>target</th>\n",
       "      <th>ids</th>\n",
       "      <th>date</th>\n",
       "      <th>flag</th>\n",
       "      <th>user</th>\n",
       "      <th>text</th>\n",
       "      <th>text_clean</th>\n",
       "    </tr>\n",
       "  </thead>\n",
       "  <tbody>\n",
       "    <tr>\n",
       "      <th>670081</th>\n",
       "      <td>0</td>\n",
       "      <td>2246455751</td>\n",
       "      <td>Fri Jun 19 17:37:19 PDT 2009</td>\n",
       "      <td>NO_QUERY</td>\n",
       "      <td>louiseisanelf</td>\n",
       "      <td>@brodiejay OH IM GOING THERE! Wow Mona Vale is...</td>\n",
       "      <td>@brodiejay oh go there! wow mona vale real pla...</td>\n",
       "    </tr>\n",
       "    <tr>\n",
       "      <th>408251</th>\n",
       "      <td>0</td>\n",
       "      <td>2059364084</td>\n",
       "      <td>Sat Jun 06 16:47:03 PDT 2009</td>\n",
       "      <td>NO_QUERY</td>\n",
       "      <td>MrsAmarieB</td>\n",
       "      <td>my baby's growing up</td>\n",
       "      <td>baby' grow</td>\n",
       "    </tr>\n",
       "    <tr>\n",
       "      <th>1559739</th>\n",
       "      <td>4</td>\n",
       "      <td>2186151891</td>\n",
       "      <td>Mon Jun 15 18:25:49 PDT 2009</td>\n",
       "      <td>NO_QUERY</td>\n",
       "      <td>epallaviccini</td>\n",
       "      <td>Painted Black-Rolling Stones..the best!</td>\n",
       "      <td>paint black-rol stones..th best!</td>\n",
       "    </tr>\n",
       "    <tr>\n",
       "      <th>571248</th>\n",
       "      <td>0</td>\n",
       "      <td>2208723981</td>\n",
       "      <td>Wed Jun 17 09:33:02 PDT 2009</td>\n",
       "      <td>NO_QUERY</td>\n",
       "      <td>Kiwitabby</td>\n",
       "      <td>kk, i'm logging off now  BYEZZ!</td>\n",
       "      <td>kk, i'm log  byezz!</td>\n",
       "    </tr>\n",
       "    <tr>\n",
       "      <th>524639</th>\n",
       "      <td>0</td>\n",
       "      <td>2193564503</td>\n",
       "      <td>Tue Jun 16 08:37:46 PDT 2009</td>\n",
       "      <td>NO_QUERY</td>\n",
       "      <td>annaqui</td>\n",
       "      <td>Shitty shitty shitty news today</td>\n",
       "      <td>shitti shitti shitti news today</td>\n",
       "    </tr>\n",
       "  </tbody>\n",
       "</table>\n",
       "</div>"
      ],
      "text/plain": [
       "         target         ids                          date      flag  \\\n",
       "670081        0  2246455751  Fri Jun 19 17:37:19 PDT 2009  NO_QUERY   \n",
       "408251        0  2059364084  Sat Jun 06 16:47:03 PDT 2009  NO_QUERY   \n",
       "1559739       4  2186151891  Mon Jun 15 18:25:49 PDT 2009  NO_QUERY   \n",
       "571248        0  2208723981  Wed Jun 17 09:33:02 PDT 2009  NO_QUERY   \n",
       "524639        0  2193564503  Tue Jun 16 08:37:46 PDT 2009  NO_QUERY   \n",
       "\n",
       "                  user                                               text  \\\n",
       "670081   louiseisanelf  @brodiejay OH IM GOING THERE! Wow Mona Vale is...   \n",
       "408251      MrsAmarieB                              my baby's growing up    \n",
       "1559739  epallaviccini          Painted Black-Rolling Stones..the best!     \n",
       "571248       Kiwitabby                    kk, i'm logging off now  BYEZZ!   \n",
       "524639         annaqui                   Shitty shitty shitty news today    \n",
       "\n",
       "                                                text_clean  \n",
       "670081   @brodiejay oh go there! wow mona vale real pla...  \n",
       "408251                                         baby' grow   \n",
       "1559739                 paint black-rol stones..th best!    \n",
       "571248                                 kk, i'm log  byezz!  \n",
       "524639                    shitti shitti shitti news today   "
      ]
     },
     "execution_count": 12,
     "metadata": {},
     "output_type": "execute_result"
    }
   ],
   "source": [
    "df['text_clean'] = df['text_clean'].apply(stemm_text)\n",
    "df.head()"
   ]
  },
  {
   "cell_type": "code",
   "execution_count": 13,
   "metadata": {},
   "outputs": [
    {
     "name": "stdout",
     "output_type": "stream",
     "text": [
      "50000 50000\n"
     ]
    }
   ],
   "source": [
    "x=list(df['text_clean'])\n",
    "y=list(df['target'])\n",
    "\n",
    "print(len(x), len(y))"
   ]
  },
  {
   "cell_type": "code",
   "execution_count": 14,
   "metadata": {},
   "outputs": [
    {
     "name": "stdout",
     "output_type": "stream",
     "text": [
      "40000 40000\n",
      "10000 10000\n"
     ]
    }
   ],
   "source": [
    "# Split into train and test sets\n",
    "x_train, x_test, y_train, y_test = train_test_split(x, y, test_size = 0.20, random_state=42, stratify=y)\n",
    "print(len(x_train), len(y_train))\n",
    "print(len(x_test), len(y_test))"
   ]
  },
  {
   "cell_type": "code",
   "execution_count": 16,
   "metadata": {},
   "outputs": [
    {
     "data": {
      "text/plain": [
       "CountVectorizer()"
      ]
     },
     "execution_count": 16,
     "metadata": {},
     "output_type": "execute_result"
    }
   ],
   "source": [
    "from sklearn.feature_extraction.text import CountVectorizer\n",
    "\n",
    "# instantiate the vectorizer\n",
    "vect = CountVectorizer()\n",
    "vect.fit(x_train)"
   ]
  },
  {
   "cell_type": "code",
   "execution_count": 17,
   "metadata": {},
   "outputs": [],
   "source": [
    "# Use the trained to create a document-term matrix from train and test sets\n",
    "x_train_dtm = vect.transform(x_train)\n",
    "x_test_dtm = vect.transform(x_test)"
   ]
  },
  {
   "cell_type": "code",
   "execution_count": 18,
   "metadata": {},
   "outputs": [],
   "source": [
    "vect_tunned = CountVectorizer(stop_words='english', ngram_range=(1,2), min_df=0.1, max_df=0.7, max_features=100)"
   ]
  },
  {
   "cell_type": "code",
   "execution_count": 19,
   "metadata": {},
   "outputs": [
    {
     "data": {
      "text/plain": [
       "<40000x42498 sparse matrix of type '<class 'numpy.float64'>'\n",
       "\twith 299141 stored elements in Compressed Sparse Row format>"
      ]
     },
     "execution_count": 19,
     "metadata": {},
     "output_type": "execute_result"
    }
   ],
   "source": [
    "from sklearn.feature_extraction.text import TfidfTransformer\n",
    "\n",
    "tfidf_transformer = TfidfTransformer()\n",
    "\n",
    "tfidf_transformer.fit(x_train_dtm)\n",
    "x_train_tfidf = tfidf_transformer.transform(x_train_dtm)\n",
    "\n",
    "x_train_tfidf"
   ]
  },
  {
   "cell_type": "code",
   "execution_count": 20,
   "metadata": {},
   "outputs": [],
   "source": [
    "import tensorflow as tf\n",
    "from tensorflow.keras.layers import Dense, Input\n",
    "from tensorflow.keras.optimizers import Adam\n",
    "from tensorflow.keras.models import Model\n",
    "from tensorflow.keras.callbacks import ModelCheckpoint\n",
    "\n",
    "import transformers\n",
    "from tqdm.notebook import tqdm\n",
    "from tokenizers import BertWordPieceTokenizer"
   ]
  },
  {
   "cell_type": "code",
   "execution_count": 21,
   "metadata": {},
   "outputs": [],
   "source": [
    "from transformers import DistilBertTokenizerFast\n",
    "tokenizer = DistilBertTokenizerFast.from_pretrained('distilbert-base-uncased')"
   ]
  },
  {
   "cell_type": "code",
   "execution_count": null,
   "metadata": {},
   "outputs": [],
   "source": [
    "trainer.evaluate(test_dataset)"
   ]
  },
  {
   "cell_type": "code",
   "execution_count": null,
   "metadata": {},
   "outputs": [],
   "source": [
    "trainer.predict(test_dataset)"
   ]
  },
  {
   "cell_type": "code",
   "execution_count": null,
   "metadata": {},
   "outputs": [],
   "source": [
    "from sklearn.metrics import classification_report\n",
    "print(classification_report(y_test,trainer.predict(test_dataset)[1]))"
   ]
  },
  {
   "cell_type": "code",
   "execution_count": 26,
   "metadata": {},
   "outputs": [],
   "source": [
    "from transformers import BertTokenizer\n",
    "tokenizer = BertTokenizer.from_pretrained('bert-large-uncased')\n",
    "\n",
    "def bert_encode(data, maximum_length) :\n",
    "    input_ids = []\n",
    "    attention_masks = []\n",
    "\n",
    "    for text in data:\n",
    "        encoded = tokenizer.encode_plus(\n",
    "            text, \n",
    "            add_special_tokens=True,\n",
    "            max_length=maximum_length,\n",
    "            pad_to_max_length=True,\n",
    "\n",
    "            return_attention_mask=True,\n",
    "        )\n",
    "        input_ids.append(encoded['input_ids'])\n",
    "        attention_masks.append(encoded['attention_mask'])\n",
    "        \n",
    "    return np.array(input_ids),np.array(attention_masks)"
   ]
  },
  {
   "cell_type": "code",
   "execution_count": 27,
   "metadata": {},
   "outputs": [
    {
     "name": "stderr",
     "output_type": "stream",
     "text": [
      "Truncation was not explicitly activated but `max_length` is provided a specific value, please use `truncation=True` to explicitly truncate examples to max length. Defaulting to 'longest_first' truncation strategy. If you encode pairs of sequences (GLUE-style) with the tokenizer you can select this strategy more precisely by providing a specific strategy to `truncation`.\n",
      "C:\\Users\\abhis\\anaconda2\\lib\\site-packages\\transformers\\tokenization_utils_base.py:2105: FutureWarning: The `pad_to_max_length` argument is deprecated and will be removed in a future version, use `padding=True` or `padding='longest'` to pad to the longest sequence in the batch, or use `padding='max_length'` to pad to a max length. In this case, you can give a specific length with `max_length` (e.g. `max_length=45`) or leave max_length to None to pad to the maximal input size of the model (e.g. 512 for Bert).\n",
      "  warnings.warn(\n"
     ]
    }
   ],
   "source": [
    "texts = df['text_clean']\n",
    "target = df['target']\n",
    "\n",
    "train_input_ids, train_attention_masks = bert_encode(texts,60)"
   ]
  },
  {
   "cell_type": "code",
   "execution_count": 28,
   "metadata": {},
   "outputs": [],
   "source": [
    "def create_model(bert_model):\n",
    "    \n",
    "    input_ids = tf.keras.Input(shape=(60,),dtype='int32')\n",
    "    attention_masks = tf.keras.Input(shape=(60,),dtype='int32')\n",
    "\n",
    "    output = bert_model([input_ids,attention_masks])\n",
    "    output = output[1]\n",
    "    output = tf.keras.layers.Dense(32,activation='relu')(output)\n",
    "    output = tf.keras.layers.Dropout(0.2)(output)\n",
    "    output = tf.keras.layers.Dense(1,activation='sigmoid')(output)\n",
    "    \n",
    "    model = tf.keras.models.Model(inputs = [input_ids,attention_masks],outputs = output)\n",
    "    model.compile(Adam(lr=1e-5), loss='binary_crossentropy', metrics=['accuracy'])\n",
    "    return model"
   ]
  },
  {
   "cell_type": "code",
   "execution_count": 29,
   "metadata": {},
   "outputs": [
    {
     "name": "stderr",
     "output_type": "stream",
     "text": [
      "Some layers from the model checkpoint at bert-base-uncased were not used when initializing TFBertModel: ['mlm___cls', 'nsp___cls']\n",
      "- This IS expected if you are initializing TFBertModel from the checkpoint of a model trained on another task or with another architecture (e.g. initializing a BertForSequenceClassification model from a BertForPreTraining model).\n",
      "- This IS NOT expected if you are initializing TFBertModel from the checkpoint of a model that you expect to be exactly identical (initializing a BertForSequenceClassification model from a BertForSequenceClassification model).\n",
      "All the layers of TFBertModel were initialized from the model checkpoint at bert-base-uncased.\n",
      "If your task is similar to the task the model of the checkpoint was trained on, you can already use TFBertModel for predictions without further training.\n"
     ]
    }
   ],
   "source": [
    "from transformers import TFBertModel\n",
    "bert_model = TFBertModel.from_pretrained('bert-base-uncased')"
   ]
  },
  {
   "cell_type": "code",
   "execution_count": 30,
   "metadata": {},
   "outputs": [
    {
     "name": "stdout",
     "output_type": "stream",
     "text": [
      "Number of replicas in sync:  1\n"
     ]
    }
   ],
   "source": [
    "try:\n",
    "    tpu = tf.distribute.cluster_resolver.TPUClusterResolver()\n",
    "    tf.config.experimental_connect_to_cluster(tpu)\n",
    "    tf.tpu.experimental.initialize_tpu_system(tpu)\n",
    "    strategy = tf.distribute.experimental.TPUStrategy(tpu)\n",
    "    \n",
    "except:\n",
    "    strategy = tf.distribute.get_strategy()\n",
    "    \n",
    "print('Number of replicas in sync: ', strategy.num_replicas_in_sync)"
   ]
  },
  {
   "cell_type": "code",
   "execution_count": 31,
   "metadata": {},
   "outputs": [
    {
     "name": "stdout",
     "output_type": "stream",
     "text": [
      "WARNING:tensorflow:The parameters `output_attentions`, `output_hidden_states` and `use_cache` cannot be updated when calling a model.They have to be set to True/False in the config object (i.e.: `config=XConfig.from_pretrained('name', output_attentions=True)`).\n",
      "WARNING:tensorflow:The parameter `return_dict` cannot be set in graph mode and will always be set to `True`.\n",
      "Model: \"model\"\n",
      "__________________________________________________________________________________________________\n",
      "Layer (type)                    Output Shape         Param #     Connected to                     \n",
      "==================================================================================================\n",
      "input_1 (InputLayer)            [(None, 60)]         0                                            \n",
      "__________________________________________________________________________________________________\n",
      "input_2 (InputLayer)            [(None, 60)]         0                                            \n",
      "__________________________________________________________________________________________________\n",
      "tf_bert_model (TFBertModel)     TFBaseModelOutputWit 109482240   input_1[0][0]                    \n",
      "                                                                 input_2[0][0]                    \n",
      "__________________________________________________________________________________________________\n",
      "dense (Dense)                   (None, 32)           24608       tf_bert_model[0][1]              \n",
      "__________________________________________________________________________________________________\n",
      "dropout_57 (Dropout)            (None, 32)           0           dense[0][0]                      \n",
      "__________________________________________________________________________________________________\n",
      "dense_1 (Dense)                 (None, 1)            33          dropout_57[0][0]                 \n",
      "==================================================================================================\n",
      "Total params: 109,506,881\n",
      "Trainable params: 109,506,881\n",
      "Non-trainable params: 0\n",
      "__________________________________________________________________________________________________\n"
     ]
    },
    {
     "name": "stderr",
     "output_type": "stream",
     "text": [
      "C:\\Users\\abhis\\anaconda2\\lib\\site-packages\\tensorflow\\python\\keras\\optimizer_v2\\optimizer_v2.py:374: UserWarning: The `lr` argument is deprecated, use `learning_rate` instead.\n",
      "  warnings.warn(\n"
     ]
    }
   ],
   "source": [
    "model = create_model(bert_model)\n",
    "model.summary()\n"
   ]
  },
  {
   "cell_type": "code",
   "execution_count": null,
   "metadata": {},
   "outputs": [
    {
     "name": "stdout",
     "output_type": "stream",
     "text": [
      "Epoch 1/3\n",
      "WARNING:tensorflow:The parameters `output_attentions`, `output_hidden_states` and `use_cache` cannot be updated when calling a model.They have to be set to True/False in the config object (i.e.: `config=XConfig.from_pretrained('name', output_attentions=True)`).\n",
      "WARNING:tensorflow:The parameter `return_dict` cannot be set in graph mode and will always be set to `True`.\n",
      "WARNING:tensorflow:The parameters `output_attentions`, `output_hidden_states` and `use_cache` cannot be updated when calling a model.They have to be set to True/False in the config object (i.e.: `config=XConfig.from_pretrained('name', output_attentions=True)`).\n",
      "WARNING:tensorflow:The parameter `return_dict` cannot be set in graph mode and will always be set to `True`.\n",
      "1878/4000 [=============>................] - ETA: 2:28:47 - loss: -41.3280 - accuracy: 5.3248e-04"
     ]
    }
   ],
   "source": [
    "history = model.fit(\n",
    "    [train_input_ids, train_attention_masks],\n",
    "    target,\n",
    "    validation_split=0.2, \n",
    "    epochs=3,\n",
    "    batch_size=10\n",
    ")"
   ]
  },
  {
   "cell_type": "code",
   "execution_count": null,
   "metadata": {},
   "outputs": [],
   "source": [
    "plot_learning_curves(history, [['loss', 'val_loss'],['accuracy', 'val_accuracy']])"
   ]
  },
  {
   "cell_type": "code",
   "execution_count": null,
   "metadata": {},
   "outputs": [],
   "source": []
  }
 ],
 "metadata": {
  "kernelspec": {
   "display_name": "Python 3",
   "language": "python",
   "name": "python3"
  },
  "language_info": {
   "codemirror_mode": {
    "name": "ipython",
    "version": 3
   },
   "file_extension": ".py",
   "mimetype": "text/x-python",
   "name": "python",
   "nbconvert_exporter": "python",
   "pygments_lexer": "ipython3",
   "version": "3.8.5"
  }
 },
 "nbformat": 4,
 "nbformat_minor": 4
}
