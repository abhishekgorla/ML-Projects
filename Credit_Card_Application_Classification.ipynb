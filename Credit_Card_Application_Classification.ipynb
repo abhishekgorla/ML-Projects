{
  "nbformat": 4,
  "nbformat_minor": 0,
  "metadata": {
    "colab": {
      "name": "Credit Card Application Classification",
      "provenance": [],
      "collapsed_sections": []
    },
    "kernelspec": {
      "name": "python3",
      "display_name": "Python 3"
    },
    "accelerator": "TPU"
  },
  "cells": [
    {
      "cell_type": "code",
      "metadata": {
        "id": "d56s_zX_P-Z_",
        "colab_type": "code",
        "colab": {
          "base_uri": "https://localhost:8080/",
          "height": 72
        },
        "outputId": "7363ae12-9a81-4694-a48d-6a1a7724ee50"
      },
      "source": [
        "import pandas as pd\n",
        "import numpy as np\n",
        "from mpl_toolkits.mplot3d import Axes3D\n",
        "from pandas.plotting import scatter_matrix\n",
        "import matplotlib.pyplot as plt\n",
        "from scipy.stats import randint\n",
        "from scipy.stats import uniform\n",
        "from sklearn.linear_model import LogisticRegression\n",
        "from sklearn.model_selection import train_test_split, RandomizedSearchCV\n",
        "import seaborn as sns\n",
        "import itertools\n",
        "from sklearn.model_selection import train_test_split\n",
        "from sklearn.metrics import accuracy_score\n",
        "from sklearn import metrics\n",
        "from sklearn.model_selection import cross_validate, cross_val_predict\n",
        "from sklearn.tree import DecisionTreeClassifier\n",
        "from sklearn.ensemble import GradientBoostingClassifier\n",
        "from sklearn.ensemble import RandomForestClassifier\n",
        "from sklearn.metrics import f1_score\n",
        "from sklearn.preprocessing import StandardScaler\n",
        "from sklearn.metrics import precision_recall_curve\n",
        "from sklearn.metrics import confusion_matrix,roc_auc_score,roc_curve,classification_report,accuracy_score\n",
        "from matplotlib import pyplot\n",
        "\n",
        "%matplotlib inline"
      ],
      "execution_count": 1,
      "outputs": [
        {
          "output_type": "stream",
          "text": [
            "/usr/local/lib/python3.6/dist-packages/statsmodels/tools/_testing.py:19: FutureWarning: pandas.util.testing is deprecated. Use the functions in the public API at pandas.testing instead.\n",
            "  import pandas.util.testing as tm\n"
          ],
          "name": "stderr"
        }
      ]
    },
    {
      "cell_type": "code",
      "metadata": {
        "id": "M0PaGq1zQHuN",
        "colab_type": "code",
        "colab": {
          "base_uri": "https://localhost:8080/",
          "height": 124
        },
        "outputId": "c72a0845-7441-4699-e2db-52269f035408"
      },
      "source": [
        "#Mount the google drive\n",
        "from google.colab import drive\n",
        "drive.mount('/content/gdrive')"
      ],
      "execution_count": 2,
      "outputs": [
        {
          "output_type": "stream",
          "text": [
            "Go to this URL in a browser: https://accounts.google.com/o/oauth2/auth?client_id=947318989803-6bn6qk8qdgf4n4g3pfee6491hc0brc4i.apps.googleusercontent.com&redirect_uri=urn%3aietf%3awg%3aoauth%3a2.0%3aoob&response_type=code&scope=email%20https%3a%2f%2fwww.googleapis.com%2fauth%2fdocs.test%20https%3a%2f%2fwww.googleapis.com%2fauth%2fdrive%20https%3a%2f%2fwww.googleapis.com%2fauth%2fdrive.photos.readonly%20https%3a%2f%2fwww.googleapis.com%2fauth%2fpeopleapi.readonly\n",
            "\n",
            "Enter your authorization code:\n",
            "··········\n",
            "Mounted at /content/gdrive\n"
          ],
          "name": "stdout"
        }
      ]
    },
    {
      "cell_type": "code",
      "metadata": {
        "id": "2ZSYHlfZQOCk",
        "colab_type": "code",
        "colab": {}
      },
      "source": [
        "# Load the files from the google drive\n",
        "df_apprec=pd.read_csv(\"/content/gdrive/Shared drives/Team 8-OPIM-5512-Data Science using Python/Project data sets/application_record.csv\")\n",
        "df_credrec=pd.read_csv(\"/content/gdrive/Shared drives/Team 8-OPIM-5512-Data Science using Python/Project data sets/credit_record.csv\")"
      ],
      "execution_count": 0,
      "outputs": []
    },
    {
      "cell_type": "code",
      "metadata": {
        "id": "h_7ltIfnQRWn",
        "colab_type": "code",
        "colab": {
          "base_uri": "https://localhost:8080/",
          "height": 52
        },
        "outputId": "d47539a4-b247-46aa-e1fe-2ed361933264"
      },
      "source": [
        "# Shape of the dataframes\n",
        "print('Size of the Application dataset is', df_apprec.shape)\n",
        "print('Size of the credit record dataset is', df_credrec.shape)"
      ],
      "execution_count": 4,
      "outputs": [
        {
          "output_type": "stream",
          "text": [
            "Size of the Application dataset is (438557, 18)\n",
            "Size of the credit record dataset is (1048575, 3)\n"
          ],
          "name": "stdout"
        }
      ]
    },
    {
      "cell_type": "code",
      "metadata": {
        "id": "lu7DP78IQU5R",
        "colab_type": "code",
        "colab": {
          "base_uri": "https://localhost:8080/",
          "height": 485
        },
        "outputId": "f5c4b5a1-f684-49a9-ca60-86213dc8ec9e"
      },
      "source": [
        "#unique values\n",
        "print(df_apprec.nunique())\n",
        "#data sample\n",
        "print(df_apprec.head())"
      ],
      "execution_count": 5,
      "outputs": [
        {
          "output_type": "stream",
          "text": [
            "ID                     438510\n",
            "CODE_GENDER                 2\n",
            "FLAG_OWN_CAR                2\n",
            "FLAG_OWN_REALTY             2\n",
            "CNT_CHILDREN               12\n",
            "AMT_INCOME_TOTAL          866\n",
            "NAME_INCOME_TYPE            5\n",
            "NAME_EDUCATION_TYPE         5\n",
            "NAME_FAMILY_STATUS          5\n",
            "NAME_HOUSING_TYPE           6\n",
            "DAYS_BIRTH              16379\n",
            "DAYS_EMPLOYED            9406\n",
            "FLAG_MOBIL                  1\n",
            "FLAG_WORK_PHONE             2\n",
            "FLAG_PHONE                  2\n",
            "FLAG_EMAIL                  2\n",
            "OCCUPATION_TYPE            18\n",
            "CNT_FAM_MEMBERS            13\n",
            "dtype: int64\n",
            "        ID CODE_GENDER  ... OCCUPATION_TYPE CNT_FAM_MEMBERS\n",
            "0  5008804           M  ...             NaN             2.0\n",
            "1  5008805           M  ...             NaN             2.0\n",
            "2  5008806           M  ...  Security staff             2.0\n",
            "3  5008808           F  ...     Sales staff             1.0\n",
            "4  5008809           F  ...     Sales staff             1.0\n",
            "\n",
            "[5 rows x 18 columns]\n"
          ],
          "name": "stdout"
        }
      ]
    },
    {
      "cell_type": "code",
      "metadata": {
        "id": "Dt1uXq7eQY27",
        "colab_type": "code",
        "colab": {}
      },
      "source": [
        "# find all users' account open month.\n",
        "begin_month=pd.DataFrame(df_credrec.groupby([\"ID\"])[\"MONTHS_BALANCE\"].agg(min))\n",
        "begin_month=begin_month.rename(columns={'MONTHS_BALANCE':'begin_month'}) \n",
        "new_data=pd.merge(df_apprec,begin_month,how=\"left\",on=\"ID\") #merge to record data"
      ],
      "execution_count": 0,
      "outputs": []
    },
    {
      "cell_type": "code",
      "metadata": {
        "id": "qNNcvnHFRysj",
        "colab_type": "code",
        "colab": {}
      },
      "source": [
        "#Aggrgating the credit record by recoding 1,2,3,4,5 to 1 and X,C values to zero\n",
        "dfCr=df_credrec[\"STATUS\"].replace({\"X\": \"0\", \"C\": \"0\", \"2\":\"1\", \"3\":\"1\", \"4\":\"1\", \"5\":\"1\"}, inplace=True)"
      ],
      "execution_count": 0,
      "outputs": []
    },
    {
      "cell_type": "code",
      "metadata": {
        "id": "FFghSJa3R2JS",
        "colab_type": "code",
        "colab": {
          "base_uri": "https://localhost:8080/",
          "height": 307
        },
        "outputId": "a30e0769-bbd7-452c-beca-b624f9adae2b"
      },
      "source": [
        "sns.countplot(x='STATUS', data=df_credrec)"
      ],
      "execution_count": 8,
      "outputs": [
        {
          "output_type": "execute_result",
          "data": {
            "text/plain": [
              "<matplotlib.axes._subplots.AxesSubplot at 0x7f24664e4908>"
            ]
          },
          "metadata": {
            "tags": []
          },
          "execution_count": 8
        },
        {
          "output_type": "display_data",
          "data": {
            "image/png": "[encoded data removed]",
            "text/plain": [
              "<Figure size 432x288 with 1 Axes>"
            ]
          },
          "metadata": {
            "tags": []
          }
        }
      ]
    },
    {
      "cell_type": "code",
      "metadata": {
        "id": "DkEs_R4gR4zh",
        "colab_type": "code",
        "colab": {}
      },
      "source": [
        "#Aggrgating the user IDs based on the maximum value of the staus value\n",
        "uniq_users=pd.DataFrame(df_credrec.groupby('ID').agg({'STATUS':'max'}))"
      ],
      "execution_count": 0,
      "outputs": []
    },
    {
      "cell_type": "code",
      "metadata": {
        "id": "JVoBLkDuR-IE",
        "colab_type": "code",
        "colab": {}
      },
      "source": [
        "#Merge the application data with the user credit status data\n",
        "new_data=pd.merge(df_apprec,uniq_users,how=\"inner\",on=\"ID\") #merge to record data"
      ],
      "execution_count": 0,
      "outputs": []
    },
    {
      "cell_type": "code",
      "metadata": {
        "id": "4ghoyVyAR--P",
        "colab_type": "code",
        "colab": {}
      },
      "source": [
        "#Renaming the columns\n",
        "new_data.rename(columns={'CODE_GENDER':'Gender','FLAG_OWN_CAR':'Car','FLAG_OWN_REALTY':'Reality',\n",
        "                         'CNT_CHILDREN':'ChldNo','AMT_INCOME_TOTAL':'inc',\n",
        "                         'NAME_EDUCATION_TYPE':'edutp','NAME_FAMILY_STATUS':'famtp',\n",
        "                        'NAME_HOUSING_TYPE':'houtp','FLAG_EMAIL':'email',\n",
        "                         'NAME_INCOME_TYPE':'inctp','FLAG_WORK_PHONE':'wkphone',\n",
        "                         'FLAG_PHONE':'phone','CNT_FAM_MEMBERS':'famsize',\n",
        "                        'OCCUPATION_TYPE':'occyp'\n",
        "                        },inplace=True)"
      ],
      "execution_count": 0,
      "outputs": []
    },
    {
      "cell_type": "code",
      "metadata": {
        "id": "t8PYAQqiSF0w",
        "colab_type": "code",
        "colab": {
          "base_uri": "https://localhost:8080/",
          "height": 72
        },
        "outputId": "b9bff688-56a2-42d1-f8fc-18d8bc0fd21f"
      },
      "source": [
        "#Masking the null values\n",
        "new_data.dropna()\n",
        "new_data = new_data.mask(new_data == 'NULL').dropna()"
      ],
      "execution_count": 12,
      "outputs": [
        {
          "output_type": "stream",
          "text": [
            "/usr/local/lib/python3.6/dist-packages/pandas/core/ops/array_ops.py:253: FutureWarning: elementwise comparison failed; returning scalar instead, but in the future will perform elementwise comparison\n",
            "  res_values = method(rvalues)\n"
          ],
          "name": "stderr"
        }
      ]
    },
    {
      "cell_type": "code",
      "metadata": {
        "id": "LVpxug-9SGmS",
        "colab_type": "code",
        "colab": {}
      },
      "source": [
        "#Creating dummy variables \n",
        "one_hot_train_i = pd.get_dummies(new_data['inctp'])\n",
        "one_hot_train_e = pd.get_dummies(new_data['edutp'])\n",
        "one_hot_train_h = pd.get_dummies(new_data['houtp'])\n",
        "one_hot_train_f = pd.get_dummies(new_data['famtp'])\n",
        "one_hot_train_o = pd.get_dummies(new_data['occyp'])\n"
      ],
      "execution_count": 0,
      "outputs": []
    },
    {
      "cell_type": "code",
      "metadata": {
        "id": "in_tV-4-SRXs",
        "colab_type": "code",
        "colab": {}
      },
      "source": [
        "new_data['Car'] = new_data['Car'].astype('bool')\n",
        "new_data['Reality'] = new_data['Reality'].astype('bool')\n",
        "#new_data['STATUS'] = new_data['STATUS'].astype('bool')\n",
        "new_data['wkphone']=new_data['wkphone'].astype('str')\n",
        "new_data['phone']=new_data['phone'].astype('str')\n",
        "new_data['email']=new_data['email'].astype('str')\n",
        "new_data['STATUS'] = new_data['STATUS'].astype(np.uint8)\n",
        "#df_appRec.FLAG_OWN_CAR.map(dict(Y=1, N=0))\n",
        "#df_appRec.FLAG_OWN_REALTY.map(dict(Y=1, N=0))\n",
        "new_data['Gender'] = np.where(new_data['Gender'] != 'M', 1, 0)"
      ],
      "execution_count": 0,
      "outputs": []
    },
    {
      "cell_type": "code",
      "metadata": {
        "id": "eUUvMS34SVj1",
        "colab_type": "code",
        "colab": {}
      },
      "source": [
        "#Dropping categorical variables and updating with one hot encoded vectors\n",
        "#new_data.drop(columns=['inctp', 'edutp','occyp','houtp','famtp'], axis = 1, inplace = True)\n",
        "#new_data = pd.concat([one_hot_train_i, new_data], axis = 1)\n",
        "#new_data = pd.concat([one_hot_train_e, new_data], axis = 1)\n",
        "#new_data = pd.concat([one_hot_train_h, new_data], axis = 1)\n",
        "#new_data = pd.concat([one_hot_train_f, new_data], axis = 1)\n",
        "#new_data = pd.concat([one_hot_train_o, new_data], axis = 1)"
      ],
      "execution_count": 0,
      "outputs": []
    },
    {
      "cell_type": "code",
      "metadata": {
        "id": "h3fv4E1iSZiN",
        "colab_type": "code",
        "colab": {}
      },
      "source": [
        "df_final=new_data"
      ],
      "execution_count": 0,
      "outputs": []
    },
    {
      "cell_type": "code",
      "metadata": {
        "id": "zzEtEuEqSb0G",
        "colab_type": "code",
        "colab": {}
      },
      "source": [
        "# Droping the wkphone, phone and email columns\n",
        "y=new_data['STATUS']\n",
        "X = new_data[['Gender','Car','Reality','ChldNo', 'inc','DAYS_BIRTH','DAYS_EMPLOYED','FLAG_MOBIL','famsize']]"
      ],
      "execution_count": 0,
      "outputs": []
    },
    {
      "cell_type": "code",
      "metadata": {
        "id": "ehBL_qBmSlaR",
        "colab_type": "code",
        "colab": {}
      },
      "source": [
        "#new_data.drop(columns=['inctp', 'edutp','occyp','houtp','famtp'], axis = 1, inplace = True)\n",
        "X = pd.concat([one_hot_train_i, X], axis = 1)\n",
        "X = pd.concat([one_hot_train_e, X], axis = 1)\n",
        "X = pd.concat([one_hot_train_h, X], axis = 1)\n",
        "X = pd.concat([one_hot_train_f, X], axis = 1)\n",
        "X = pd.concat([one_hot_train_o, X], axis = 1)"
      ],
      "execution_count": 0,
      "outputs": []
    },
    {
      "cell_type": "code",
      "metadata": {
        "id": "_5nhBzb6SmHK",
        "colab_type": "code",
        "colab": {}
      },
      "source": [
        "X_train, X_test, y_train, y_test = train_test_split(X, y,test_size=0.3)"
      ],
      "execution_count": 0,
      "outputs": []
    },
    {
      "cell_type": "code",
      "metadata": {
        "id": "nBoLFLE2SqOM",
        "colab_type": "code",
        "colab": {}
      },
      "source": [
        "#Logistic regression model for the data\n",
        "Log_classifier = LogisticRegression(class_weight='balanced')\n",
        "scoring = ['accuracy', 'precision_macro', 'recall_macro' , 'f1_weighted', 'roc_auc']\n",
        "scores = cross_validate(Log_classifier, X_train, y_train, scoring=scoring, cv=20)\n",
        "sorted(scores.keys())\n",
        "LR_fit_time = scores['fit_time'].mean()\n",
        "LR_score_time = scores['score_time'].mean()\n",
        "LR_accuracy = scores['test_accuracy'].mean()\n",
        "LR_precision = scores['test_precision_macro'].mean()\n",
        "LR_recall = scores['test_recall_macro'].mean()\n",
        "LR_f1 = scores['test_f1_weighted'].mean()\n",
        "LR_roc = scores['test_roc_auc'].mean()\n",
        "LR_cm = scores['test_roc_auc'].mean()"
      ],
      "execution_count": 0,
      "outputs": []
    },
    {
      "cell_type": "code",
      "metadata": {
        "id": "IkDd0JKnSt3X",
        "colab_type": "code",
        "colab": {
          "base_uri": "https://localhost:8080/",
          "height": 52
        },
        "outputId": "736ace4c-bcf6-49d3-84af-ffb7d6c48575"
      },
      "source": [
        "#Confusion matrix for logistic regression\n",
        "Log_classifier.fit(X_train, y_train)\n",
        "#y_pred = cross_val_predict(random_forest, X_test,y_test, cv=10)\n",
        "y_pred=Log_classifier.predict(X_test)\n",
        "confusion_matrix(y_test, y_pred)\n"
      ],
      "execution_count": 21,
      "outputs": [
        {
          "output_type": "execute_result",
          "data": {
            "text/plain": [
              "array([[4013, 2545],\n",
              "       [ 573,  410]])"
            ]
          },
          "metadata": {
            "tags": []
          },
          "execution_count": 21
        }
      ]
    },
    {
      "cell_type": "code",
      "metadata": {
        "id": "8ozDY25fSx5Z",
        "colab_type": "code",
        "colab": {
          "base_uri": "https://localhost:8080/",
          "height": 314
        },
        "outputId": "3fb53070-1da9-48f9-cb11-38271dd4c097"
      },
      "source": [
        "#Precision recall curve for Logistic regression\n",
        "ns_probs = [0 for _ in range(len(y_test))]\n",
        "Log_classifier.fit(X_train, y_train)\n",
        "lr_probs = Log_classifier.predict_proba(X_test)\n",
        "# keep probabilities for the positive outcome only\n",
        "lr_probs = lr_probs[:, 1]\n",
        "# calculate scores\n",
        "ns_auc = roc_auc_score(y_test, ns_probs)\n",
        "lr_auc = roc_auc_score(y_test, lr_probs)\n",
        "# summarize scores\n",
        "print('No Skill: ROC AUC=%.3f' % (ns_auc))\n",
        "print('Logistic: ROC AUC=%.3f' % (lr_auc))\n",
        "# calculate roc curves\n",
        "ns_fpr, ns_tpr, _ = roc_curve(y_test, ns_probs)\n",
        "lr_fpr, lr_tpr, _ = roc_curve(y_test, lr_probs)\n",
        "# plot the roc curve for the model\n",
        "pyplot.plot(ns_fpr, ns_tpr, linestyle='--', label='No Skill')\n",
        "pyplot.plot(lr_fpr, lr_tpr, marker='.', label='Logistic')\n",
        "# axis labels\n",
        "pyplot.xlabel('False Positive Rate')\n",
        "pyplot.ylabel('True Positive Rate')\n",
        "# show the legend\n",
        "pyplot.legend()\n",
        "# show the plot\n",
        "pyplot.show()"
      ],
      "execution_count": 22,
      "outputs": [
        {
          "output_type": "stream",
          "text": [
            "No Skill: ROC AUC=0.500\n",
            "Logistic: ROC AUC=0.513\n"
          ],
          "name": "stdout"
        },
        {
          "output_type": "display_data",
          "data": {
            "image/png": "[encoded data removed]",
            "text/plain": [
              "<Figure size 432x288 with 1 Axes>"
            ]
          },
          "metadata": {
            "tags": []
          }
        }
      ]
    },
    {
      "cell_type": "code",
      "metadata": {
        "id": "w1OMFS0RS2Ml",
        "colab_type": "code",
        "colab": {}
      },
      "source": [
        "#Fit the decision tree model on training data \n",
        "decision_tree = DecisionTreeClassifier()\n",
        "\n",
        "scoring = ['accuracy', 'precision_macro', 'recall_macro' , 'f1_weighted', 'roc_auc']\n",
        "scores = cross_validate(decision_tree, X_train, y_train, scoring=scoring, cv=20)\n",
        "\n",
        "sorted(scores.keys())\n",
        "dtree_fit_time = scores['fit_time'].mean()\n",
        "dtree_score_time = scores['score_time'].mean()\n",
        "dtree_accuracy = scores['test_accuracy'].mean()\n",
        "dtree_precision = scores['test_precision_macro'].mean()\n",
        "dtree_recall = scores['test_recall_macro'].mean()\n",
        "dtree_f1 = scores['test_f1_weighted'].mean()\n",
        "dtree_roc = scores['test_roc_auc'].mean()\n"
      ],
      "execution_count": 0,
      "outputs": []
    },
    {
      "cell_type": "code",
      "metadata": {
        "id": "nSDP4SNnS6ny",
        "colab_type": "code",
        "colab": {
          "base_uri": "https://localhost:8080/",
          "height": 52
        },
        "outputId": "9bd5e02b-3f0a-4450-87ba-262300832a72"
      },
      "source": [
        "#Confusion Matrix for Decision tree model \n",
        "decision_tree.fit(X_train, y_train)\n",
        "#y_pred = cross_val_predict(random_forest, X_test,y_test, cv=10)\n",
        "y_pred=decision_tree.predict(X_test)\n",
        "confusion_matrix(y_test, y_pred)"
      ],
      "execution_count": 24,
      "outputs": [
        {
          "output_type": "execute_result",
          "data": {
            "text/plain": [
              "array([[6262,  296],\n",
              "       [ 682,  301]])"
            ]
          },
          "metadata": {
            "tags": []
          },
          "execution_count": 24
        }
      ]
    },
    {
      "cell_type": "code",
      "metadata": {
        "id": "TzKCXfXKTCBk",
        "colab_type": "code",
        "colab": {
          "base_uri": "https://localhost:8080/",
          "height": 314
        },
        "outputId": "c3bf7af0-32d9-487c-c906-624f93a1d157"
      },
      "source": [
        "#Precision recall curve for Decision tree\n",
        "ns_probs = [0 for _ in range(len(y_test))]\n",
        "decision_tree.fit(X_train, y_train)\n",
        "lr_probs = decision_tree.predict_proba(X_test)\n",
        "# keep probabilities for the positive outcome only\n",
        "lr_probs = lr_probs[:, 1]\n",
        "# calculate scores\n",
        "ns_auc = roc_auc_score(y_test, ns_probs)\n",
        "lr_auc = roc_auc_score(y_test, lr_probs)\n",
        "# summarize scores\n",
        "print('No Skill: ROC AUC=%.3f' % (ns_auc))\n",
        "print('Decision Tree: ROC AUC=%.3f' % (lr_auc))\n",
        "# calculate roc curves\n",
        "ns_fpr, ns_tpr, _ = roc_curve(y_test, ns_probs)\n",
        "lr_fpr, lr_tpr, _ = roc_curve(y_test, lr_probs)\n",
        "# plot the roc curve for the model\n",
        "pyplot.plot(ns_fpr, ns_tpr, linestyle='--', label='No Skill')\n",
        "pyplot.plot(lr_fpr, lr_tpr, marker='.', label='Decision tree')\n",
        "# axis labels\n",
        "pyplot.xlabel('False Positive Rate')\n",
        "pyplot.ylabel('True Positive Rate')\n",
        "# show the legend\n",
        "pyplot.legend()\n",
        "# show the plot\n",
        "pyplot.show()"
      ],
      "execution_count": 25,
      "outputs": [
        {
          "output_type": "stream",
          "text": [
            "No Skill: ROC AUC=0.500\n",
            "Decision Tree: ROC AUC=0.727\n"
          ],
          "name": "stdout"
        },
        {
          "output_type": "display_data",
          "data": {
            "image/png": "[encoded data removed]",
            "text/plain": [
              "<Figure size 432x288 with 1 Axes>"
            ]
          },
          "metadata": {
            "tags": []
          }
        }
      ]
    },
    {
      "cell_type": "code",
      "metadata": {
        "id": "jjVMSCZTTF-v",
        "colab_type": "code",
        "colab": {
          "base_uri": "https://localhost:8080/",
          "height": 141
        },
        "outputId": "29e30a0f-3ec0-4b3a-99dc-202fddcf181b"
      },
      "source": [
        "gdclf = GradientBoostingClassifier()\n",
        "scoring = ['accuracy', 'precision_macro', 'recall_macro' , 'f1_weighted', 'roc_auc']\n",
        "scores = cross_validate(gdclf, X_train, y_train, scoring=scoring, cv=20)\n",
        "sorted(scores.keys())\n",
        "gb_fit_time = scores['fit_time'].mean()\n",
        "gb_score_time = scores['score_time'].mean()\n",
        "gb_accuracy = scores['test_accuracy'].mean()\n",
        "gb_precision = scores['test_precision_macro'].mean()\n",
        "gb_recall = scores['test_recall_macro'].mean()\n",
        "gb_f1 = scores['test_f1_weighted'].mean()\n",
        "gb_roc = scores['test_roc_auc'].mean()"
      ],
      "execution_count": 26,
      "outputs": [
        {
          "output_type": "stream",
          "text": [
            "/usr/local/lib/python3.6/dist-packages/sklearn/metrics/_classification.py:1272: UndefinedMetricWarning: Precision is ill-defined and being set to 0.0 in labels with no predicted samples. Use `zero_division` parameter to control this behavior.\n",
            "  _warn_prf(average, modifier, msg_start, len(result))\n",
            "/usr/local/lib/python3.6/dist-packages/sklearn/metrics/_classification.py:1272: UndefinedMetricWarning: Precision is ill-defined and being set to 0.0 in labels with no predicted samples. Use `zero_division` parameter to control this behavior.\n",
            "  _warn_prf(average, modifier, msg_start, len(result))\n",
            "/usr/local/lib/python3.6/dist-packages/sklearn/metrics/_classification.py:1272: UndefinedMetricWarning: Precision is ill-defined and being set to 0.0 in labels with no predicted samples. Use `zero_division` parameter to control this behavior.\n",
            "  _warn_prf(average, modifier, msg_start, len(result))\n"
          ],
          "name": "stderr"
        }
      ]
    },
    {
      "cell_type": "code",
      "metadata": {
        "id": "rct4gjYpTQvn",
        "colab_type": "code",
        "colab": {
          "base_uri": "https://localhost:8080/",
          "height": 52
        },
        "outputId": "bedfb6c1-4718-4107-fd9e-1411839e5ba7"
      },
      "source": [
        "#Confusion Matrix for GB \n",
        "gdclf.fit(X_train, y_train)\n",
        "#y_pred = cross_val_predict(random_forest, X_test,y_test, cv=10)\n",
        "y_pred=gdclf.predict(X_test)\n",
        "confusion_matrix(y_test, y_pred)"
      ],
      "execution_count": 27,
      "outputs": [
        {
          "output_type": "execute_result",
          "data": {
            "text/plain": [
              "array([[6555,    3],\n",
              "       [ 977,    6]])"
            ]
          },
          "metadata": {
            "tags": []
          },
          "execution_count": 27
        }
      ]
    },
    {
      "cell_type": "code",
      "metadata": {
        "id": "Sd_Agc-kTTvu",
        "colab_type": "code",
        "colab": {
          "base_uri": "https://localhost:8080/",
          "height": 314
        },
        "outputId": "87e538af-9dcb-4b1f-c32f-af93313a9e9b"
      },
      "source": [
        "#Precision recall curve for GB\n",
        "ns_probs = [0 for _ in range(len(y_test))]\n",
        "gdclf.fit(X_train, y_train)\n",
        "lr_probs = gdclf.predict_proba(X_test)\n",
        "# keep probabilities for the positive outcome only\n",
        "lr_probs = lr_probs[:, 1]\n",
        "# calculate scores\n",
        "ns_auc = roc_auc_score(y_test, ns_probs)\n",
        "lr_auc = roc_auc_score(y_test, lr_probs)\n",
        "# summarize scores\n",
        "print('No Skill: ROC AUC=%.3f' % (ns_auc))\n",
        "print('Gradient Boost: ROC AUC=%.3f' % (lr_auc))\n",
        "# calculate roc curves\n",
        "ns_fpr, ns_tpr, _ = roc_curve(y_test, ns_probs)\n",
        "lr_fpr, lr_tpr, _ = roc_curve(y_test, lr_probs)\n",
        "# plot the roc curve for the model\n",
        "pyplot.plot(ns_fpr, ns_tpr, linestyle='--', label='No Skill')\n",
        "pyplot.plot(lr_fpr, lr_tpr, marker='.', label='Gradient boost')\n",
        "# axis labels\n",
        "pyplot.xlabel('False Positive Rate')\n",
        "pyplot.ylabel('True Positive Rate')\n",
        "# show the legend\n",
        "pyplot.legend()\n",
        "# show the plot\n",
        "pyplot.show()"
      ],
      "execution_count": 28,
      "outputs": [
        {
          "output_type": "stream",
          "text": [
            "No Skill: ROC AUC=0.500\n",
            "Gradient Boost: ROC AUC=0.598\n"
          ],
          "name": "stdout"
        },
        {
          "output_type": "display_data",
          "data": {
            "image/png": "[encoded data removed]",
            "text/plain": [
              "<Figure size 432x288 with 1 Axes>"
            ]
          },
          "metadata": {
            "tags": []
          }
        }
      ]
    },
    {
      "cell_type": "code",
      "metadata": {
        "id": "4Z4lcOu_TX2N",
        "colab_type": "code",
        "colab": {}
      },
      "source": [
        "random_forest = RandomForestClassifier()\n",
        "\n",
        "scoring = ['accuracy', 'precision_macro', 'recall_macro' , 'f1_weighted', 'roc_auc']\n",
        "scores = cross_validate(random_forest, X_train, y_train, scoring=scoring, cv=20)\n",
        "\n",
        "sorted(scores.keys())\n",
        "forest_fit_time = scores['fit_time'].mean()\n",
        "forest_score_time = scores['score_time'].mean()\n",
        "forest_accuracy = scores['test_accuracy'].mean()\n",
        "forest_precision = scores['test_precision_macro'].mean()\n",
        "forest_recall = scores['test_recall_macro'].mean()\n",
        "forest_f1 = scores['test_f1_weighted'].mean()\n",
        "forest_roc = scores['test_roc_auc'].mean()"
      ],
      "execution_count": 0,
      "outputs": []
    },
    {
      "cell_type": "code",
      "metadata": {
        "id": "Y8tAQY0xTcL2",
        "colab_type": "code",
        "colab": {
          "base_uri": "https://localhost:8080/",
          "height": 52
        },
        "outputId": "8821048a-755f-48f7-9739-80eb4640141c"
      },
      "source": [
        "#Confusion Matrix for random forest\n",
        "random_forest.fit(X_train, y_train)\n",
        "#y_pred = cross_val_predict(random_forest, X_test,y_test, cv=10)\n",
        "y_pred=random_forest.predict(X_test)\n",
        "confusion_matrix(y_test, y_pred)"
      ],
      "execution_count": 30,
      "outputs": [
        {
          "output_type": "execute_result",
          "data": {
            "text/plain": [
              "array([[6302,  256],\n",
              "       [ 685,  298]])"
            ]
          },
          "metadata": {
            "tags": []
          },
          "execution_count": 30
        }
      ]
    },
    {
      "cell_type": "code",
      "metadata": {
        "id": "10YssHc9TgM7",
        "colab_type": "code",
        "colab": {
          "base_uri": "https://localhost:8080/",
          "height": 314
        },
        "outputId": "b8a27ef5-3280-4863-d68c-1319b2453339"
      },
      "source": [
        "#Precision recall curve for Random forest\n",
        "ns_probs = [0 for _ in range(len(y_test))]\n",
        "random_forest.fit(X_train, y_train)\n",
        "lr_probs = random_forest.predict_proba(X_test)\n",
        "# keep probabilities for the positive outcome only\n",
        "lr_probs = lr_probs[:, 1]\n",
        "# calculate scores\n",
        "ns_auc = roc_auc_score(y_test, ns_probs)\n",
        "lr_auc = roc_auc_score(y_test, lr_probs)\n",
        "# summarize scores\n",
        "print('No Skill: ROC AUC=%.3f' % (ns_auc))\n",
        "print('Random forest: ROC AUC=%.3f' % (lr_auc))\n",
        "# calculate roc curves\n",
        "ns_fpr, ns_tpr, _ = roc_curve(y_test, ns_probs)\n",
        "lr_fpr, lr_tpr, _ = roc_curve(y_test, lr_probs)\n",
        "# plot the roc curve for the model\n",
        "pyplot.plot(ns_fpr, ns_tpr, linestyle='--', label='No Skill')\n",
        "pyplot.plot(lr_fpr, lr_tpr, marker='.', label='Random forest')\n",
        "# axis labels\n",
        "pyplot.xlabel('False Positive Rate')\n",
        "pyplot.ylabel('True Positive Rate')\n",
        "# show the legend\n",
        "pyplot.legend()\n",
        "# show the plot\n",
        "pyplot.show()"
      ],
      "execution_count": 31,
      "outputs": [
        {
          "output_type": "stream",
          "text": [
            "No Skill: ROC AUC=0.500\n",
            "Random forest: ROC AUC=0.774\n"
          ],
          "name": "stdout"
        },
        {
          "output_type": "display_data",
          "data": {
            "image/png": "[encoded data removed]",
            "text/plain": [
              "<Figure size 432x288 with 1 Axes>"
            ]
          },
          "metadata": {
            "tags": []
          }
        }
      ]
    },
    {
      "cell_type": "code",
      "metadata": {
        "id": "kcCZpFy7Tmcd",
        "colab_type": "code",
        "colab": {
          "base_uri": "https://localhost:8080/",
          "height": 171
        },
        "outputId": "37f36332-9053-4730-83fa-75cbc02464e9"
      },
      "source": [
        "#Model Comparison\n",
        "  models_rfecv = pd.DataFrame({\n",
        "      'Model'       : ['Logistic Regression', 'Decision Tree', 'Random Forest','Gradient Boost'],\n",
        "      'Fitting time': [LR_fit_time, dtree_fit_time, forest_fit_time,gb_fit_time],\n",
        "      'Scoring time': [LR_score_time, dtree_score_time, forest_score_time,gb_score_time],\n",
        "      'Accuracy'    : [LR_accuracy, dtree_accuracy, forest_accuracy,gb_accuracy],\n",
        "      'Precision'   : [LR_precision, dtree_precision, forest_precision,gb_precision],\n",
        "      'Recall'      : [LR_recall, dtree_recall, forest_recall,gb_recall],\n",
        "      'F1_score'    : [LR_f1, dtree_f1, forest_f1,gb_f1],\n",
        "      'AUC_ROC'     : [LR_roc, dtree_roc, forest_roc,gb_roc],\n",
        "      }, columns = ['Model', 'Fitting time', 'Scoring time', 'Accuracy', 'Precision', 'Recall', 'F1_score', 'AUC_ROC'])\n",
        "\n",
        "  models_rfecv.sort_values(by='Accuracy', ascending=False)\n"
      ],
      "execution_count": 35,
      "outputs": [
        {
          "output_type": "execute_result",
          "data": {
            "text/html": [
              "<div>\n",
              "<style scoped>\n",
              "    .dataframe tbody tr th:only-of-type {\n",
              "        vertical-align: middle;\n",
              "    }\n",
              "\n",
              "    .dataframe tbody tr th {\n",
              "        vertical-align: top;\n",
              "    }\n",
              "\n",
              "    .dataframe thead th {\n",
              "        text-align: right;\n",
              "    }\n",
              "</style>\n",
              "<table border=\"1\" class=\"dataframe\">\n",
              "  <thead>\n",
              "    <tr style=\"text-align: right;\">\n",
              "      <th></th>\n",
              "      <th>Model</th>\n",
              "      <th>Fitting time</th>\n",
              "      <th>Scoring time</th>\n",
              "      <th>Accuracy</th>\n",
              "      <th>Precision</th>\n",
              "      <th>Recall</th>\n",
              "      <th>F1_score</th>\n",
              "      <th>AUC_ROC</th>\n",
              "    </tr>\n",
              "  </thead>\n",
              "  <tbody>\n",
              "    <tr>\n",
              "      <th>3</th>\n",
              "      <td>Gradient Boost</td>\n",
              "      <td>2.662893</td>\n",
              "      <td>0.013354</td>\n",
              "      <td>0.881885</td>\n",
              "      <td>0.794795</td>\n",
              "      <td>0.508485</td>\n",
              "      <td>0.829008</td>\n",
              "      <td>0.592974</td>\n",
              "    </tr>\n",
              "    <tr>\n",
              "      <th>2</th>\n",
              "      <td>Random Forest</td>\n",
              "      <td>2.115097</td>\n",
              "      <td>0.083625</td>\n",
              "      <td>0.881202</td>\n",
              "      <td>0.708886</td>\n",
              "      <td>0.629359</td>\n",
              "      <td>0.867293</td>\n",
              "      <td>0.780789</td>\n",
              "    </tr>\n",
              "    <tr>\n",
              "      <th>1</th>\n",
              "      <td>Decision Tree</td>\n",
              "      <td>0.188503</td>\n",
              "      <td>0.010419</td>\n",
              "      <td>0.875462</td>\n",
              "      <td>0.689141</td>\n",
              "      <td>0.627128</td>\n",
              "      <td>0.863198</td>\n",
              "      <td>0.732947</td>\n",
              "    </tr>\n",
              "    <tr>\n",
              "      <th>0</th>\n",
              "      <td>Logistic Regression</td>\n",
              "      <td>0.154146</td>\n",
              "      <td>0.015586</td>\n",
              "      <td>0.587509</td>\n",
              "      <td>0.506991</td>\n",
              "      <td>0.515892</td>\n",
              "      <td>0.659496</td>\n",
              "      <td>0.525986</td>\n",
              "    </tr>\n",
              "  </tbody>\n",
              "</table>\n",
              "</div>"
            ],
            "text/plain": [
              "                 Model  Fitting time  ...  F1_score   AUC_ROC\n",
              "3       Gradient Boost      2.662893  ...  0.829008  0.592974\n",
              "2        Random Forest      2.115097  ...  0.867293  0.780789\n",
              "1        Decision Tree      0.188503  ...  0.863198  0.732947\n",
              "0  Logistic Regression      0.154146  ...  0.659496  0.525986\n",
              "\n",
              "[4 rows x 8 columns]"
            ]
          },
          "metadata": {
            "tags": []
          },
          "execution_count": 35
        }
      ]
    },
    {
      "cell_type": "code",
      "metadata": {
        "id": "dqyFEH4vTqsN",
        "colab_type": "code",
        "colab": {}
      },
      "source": [
        "def evalPerformance(test_algo_obtained_labels, test_labels):\n",
        "\ta, b, c, d = 0, 0, 0, 0\n",
        "\ttest_labels = np.array(test_labels)\n",
        "\ttest_algo_obtained_labels = np.array(test_algo_obtained_labels)\n",
        "\ttest_algo_obtained_labels = test_algo_obtained_labels.astype(np.float)\n",
        "\tfor i in range(0, len(test_labels)):\n",
        "\t\tif(test_labels[i] == test_algo_obtained_labels[i] and test_labels[i] == 1.0):\n",
        "\t\t\ta += 1\n",
        "\t\telif(test_labels[i] == 1.0 and test_algo_obtained_labels[i] == 0.0):\n",
        "\t\t\tb += 1\n",
        "\t\telif(test_labels[i] == 0.0 and test_algo_obtained_labels[i] == 1.0):\n",
        "\t\t\tc += 1\n",
        "\t\telif(test_labels[i] == test_algo_obtained_labels[i] and test_labels[i] == 0.0):\n",
        "\t\t\td += 1\n",
        "\taccuracy = 0.0\n",
        "\tprecision = 0.0\n",
        "\trecall = 0.0\n",
        "\tf_measure = 0.0\n",
        "\tif(a+b+c+d != 0):\n",
        "\t\taccuracy = float(a+d)/(a+b+c+d)\n",
        "\tif(a+c != 0):\n",
        "\t\tprecision = a / float(a+c)\n",
        "\tif(a+b != 0):\n",
        "\t\trecall = a/float(a+b)\n",
        "\tif(2*a + b + c != 0):\n",
        "\t\tf_measure = 2*a/float(2*a + b + c)\n",
        "\tprint(\" Accuracy is : \" + str(accuracy)),\n",
        "\tprint(\" Precision is : \" + str(precision))\n",
        "\tprint(\" Recall is : \" + str(recall))\n",
        "\tprint(\" F Measure is : \" + str(f_measure))\n",
        "\tprint()\n",
        "\treturn accuracy, precision, recall, f_measure"
      ],
      "execution_count": 0,
      "outputs": []
    },
    {
      "cell_type": "code",
      "metadata": {
        "id": "2mOKBF1HTw81",
        "colab_type": "code",
        "colab": {}
      },
      "source": [
        "#SMote\n",
        "y1=df_final['STATUS']\n",
        "X1 = df_final[['Gender','Car','Reality','ChldNo', 'inc','DAYS_BIRTH','DAYS_EMPLOYED','FLAG_MOBIL','famsize']]"
      ],
      "execution_count": 0,
      "outputs": []
    },
    {
      "cell_type": "code",
      "metadata": {
        "id": "vw-ZzKG2T0kl",
        "colab_type": "code",
        "colab": {
          "base_uri": "https://localhost:8080/",
          "height": 141
        },
        "outputId": "9d0102bf-717c-45d2-d9be-df99a1d498e5"
      },
      "source": [
        "from imblearn.over_sampling import SMOTE\n",
        "X_balance,Y_balance = SMOTE().fit_sample(X,y)\n",
        "X_balance = pd.DataFrame(X_balance,columns=X.columns)"
      ],
      "execution_count": 38,
      "outputs": [
        {
          "output_type": "stream",
          "text": [
            "/usr/local/lib/python3.6/dist-packages/sklearn/externals/six.py:31: FutureWarning: The module is deprecated in version 0.21 and will be removed in version 0.23 since we've dropped support for Python 2.7. Please rely on the official version of six (https://pypi.org/project/six/).\n",
            "  \"(https://pypi.org/project/six/).\", FutureWarning)\n",
            "/usr/local/lib/python3.6/dist-packages/sklearn/utils/deprecation.py:144: FutureWarning: The sklearn.neighbors.base module is  deprecated in version 0.22 and will be removed in version 0.24. The corresponding classes / functions should instead be imported from sklearn.neighbors. Anything that cannot be imported from sklearn.neighbors is now part of the private API.\n",
            "  warnings.warn(message, FutureWarning)\n",
            "/usr/local/lib/python3.6/dist-packages/sklearn/utils/deprecation.py:87: FutureWarning: Function safe_indexing is deprecated; safe_indexing is deprecated in version 0.22 and will be removed in version 0.24.\n",
            "  warnings.warn(msg, category=FutureWarning)\n"
          ],
          "name": "stderr"
        }
      ]
    },
    {
      "cell_type": "code",
      "metadata": {
        "id": "4HJ2lKJAT3_T",
        "colab_type": "code",
        "colab": {
          "base_uri": "https://localhost:8080/",
          "height": 35
        },
        "outputId": "22310949-d7f8-4672-bee2-44f218ba213f"
      },
      "source": [
        "shape = np.shape(X_balance)\n",
        "print(\"Shape of the dataset \",shape)\n"
      ],
      "execution_count": 39,
      "outputs": [
        {
          "output_type": "stream",
          "text": [
            "Shape of the dataset  (44090, 48)\n"
          ],
          "name": "stdout"
        }
      ]
    },
    {
      "cell_type": "code",
      "metadata": {
        "id": "F6YsEsMjT9wa",
        "colab_type": "code",
        "colab": {}
      },
      "source": [
        "X_train, X_test, y_train, y_test = train_test_split(X_balance,Y_balance, \n",
        "                                                    stratify=Y_balance, test_size=0.3,\n",
        "                                                    random_state = 10086)"
      ],
      "execution_count": 0,
      "outputs": []
    },
    {
      "cell_type": "code",
      "metadata": {
        "id": "BNfNkmanUB8Z",
        "colab_type": "code",
        "colab": {
          "base_uri": "https://localhost:8080/",
          "height": 156
        },
        "outputId": "330a19cd-1f17-46a1-f93e-d3211e60a4cb"
      },
      "source": [
        "rf= RandomForestClassifier()\n",
        "rf.fit(X_train,y_train)"
      ],
      "execution_count": 41,
      "outputs": [
        {
          "output_type": "execute_result",
          "data": {
            "text/plain": [
              "RandomForestClassifier(bootstrap=True, ccp_alpha=0.0, class_weight=None,\n",
              "                       criterion='gini', max_depth=None, max_features='auto',\n",
              "                       max_leaf_nodes=None, max_samples=None,\n",
              "                       min_impurity_decrease=0.0, min_impurity_split=None,\n",
              "                       min_samples_leaf=1, min_samples_split=2,\n",
              "                       min_weight_fraction_leaf=0.0, n_estimators=100,\n",
              "                       n_jobs=None, oob_score=False, random_state=None,\n",
              "                       verbose=0, warm_start=False)"
            ]
          },
          "metadata": {
            "tags": []
          },
          "execution_count": 41
        }
      ]
    },
    {
      "cell_type": "code",
      "metadata": {
        "id": "z2ExA0gjUE-0",
        "colab_type": "code",
        "colab": {
          "base_uri": "https://localhost:8080/",
          "height": 173
        },
        "outputId": "04c1ec0e-f904-42bf-e87f-0b1ed6feceb7"
      },
      "source": [
        "y_pred=rf.predict(X_test)\n",
        "evalPerformance(y_pred,y_test)"
      ],
      "execution_count": 42,
      "outputs": [
        {
          "output_type": "stream",
          "text": [
            " Accuracy is : 0.9162319497996523\n",
            " Precision is : 0.9155971614072173\n",
            " Recall is : 0.9169817027067897\n",
            " F Measure is : 0.9162889090359625\n",
            "\n"
          ],
          "name": "stdout"
        },
        {
          "output_type": "execute_result",
          "data": {
            "text/plain": [
              "(0.9162319497996523,\n",
              " 0.9155971614072173,\n",
              " 0.9169817027067897,\n",
              " 0.9162889090359625)"
            ]
          },
          "metadata": {
            "tags": []
          },
          "execution_count": 42
        }
      ]
    },
    {
      "cell_type": "code",
      "metadata": {
        "id": "uASo1lZqUIEz",
        "colab_type": "code",
        "colab": {
          "base_uri": "https://localhost:8080/",
          "height": 314
        },
        "outputId": "3f82c402-79d9-4ac4-f524-b727da70bd46"
      },
      "source": [
        "#Precision recall curve for Random forest\n",
        "ns_probs = [0 for _ in range(len(y_test))]\n",
        "rf.fit(X_train, y_train)\n",
        "lr_probs = rf.predict_proba(X_test)\n",
        "# keep probabilities for the positive outcome only\n",
        "lr_probs = lr_probs[:, 1]\n",
        "# calculate scores\n",
        "ns_auc = roc_auc_score(y_test, ns_probs)\n",
        "lr_auc = roc_auc_score(y_test, lr_probs)\n",
        "# summarize scores\n",
        "print('No Skill: ROC AUC=%.3f' % (ns_auc))\n",
        "print('Random forest: ROC AUC=%.3f' % (lr_auc))\n",
        "# calculate roc curves\n",
        "ns_fpr, ns_tpr, _ = roc_curve(y_test, ns_probs)\n",
        "lr_fpr, lr_tpr, _ = roc_curve(y_test, lr_probs)\n",
        "# plot the roc curve for the model\n",
        "pyplot.plot(ns_fpr, ns_tpr, linestyle='--', label='No Skill')\n",
        "pyplot.plot(lr_fpr, lr_tpr, marker='.', label='Random forest')\n",
        "# axis labels\n",
        "pyplot.xlabel('False Positive Rate')\n",
        "pyplot.ylabel('True Positive Rate')\n",
        "# show the legend\n",
        "pyplot.legend()\n",
        "# show the plot\n",
        "pyplot.show()"
      ],
      "execution_count": 43,
      "outputs": [
        {
          "output_type": "stream",
          "text": [
            "No Skill: ROC AUC=0.500\n",
            "Random forest: ROC AUC=0.964\n"
          ],
          "name": "stdout"
        },
        {
          "output_type": "display_data",
          "data": {
            "image/png": "[encoded data removed]",
            "text/plain": [
              "<Figure size 432x288 with 1 Axes>"
            ]
          },
          "metadata": {
            "tags": []
          }
        }
      ]
    },
    {
      "cell_type": "code",
      "metadata": {
        "id": "2PyAGimCUMNW",
        "colab_type": "code",
        "colab": {
          "base_uri": "https://localhost:8080/",
          "height": 473
        },
        "outputId": "c8e262f9-7f4c-4765-8cee-81ae3aa24377"
      },
      "source": [
        "random_forest.fit(X_test,y_test)\n",
        "print(rf.feature_importances_) #use inbuilt class feature_importances of tree based classifiers\n",
        "#plot graph of feature importances for better visualization\n",
        "feat_importances = pd.Series(random_forest.feature_importances_, index=X.columns)\n",
        "feat_importances.nlargest(10).plot(kind='barh')\n",
        "plt.show()"
      ],
      "execution_count": 44,
      "outputs": [
        {
          "output_type": "stream",
          "text": [
            "[7.29683991e-03 3.93491401e-03 5.26413515e-03 2.08203639e-02\n",
            " 1.42131047e-02 1.31255563e-03 1.14296304e-02 1.43851957e-03\n",
            " 4.75888244e-02 1.90776852e-03 1.49237707e-02 7.71115566e-03\n",
            " 2.77249145e-03 9.11091808e-04 2.65987523e-02 9.61144805e-04\n",
            " 4.83675167e-03 1.57013600e-03 1.29685794e-02 3.97757098e-02\n",
            " 8.85290238e-03 2.30744306e-02 3.14976768e-03 1.16890681e-03\n",
            " 1.45843236e-02 5.44761451e-03 1.24455704e-03 3.07402186e-03\n",
            " 7.59733758e-03 4.09649771e-04 3.59299995e-02 7.14344887e-03\n",
            " 1.97493688e-03 4.10646206e-02 4.01153706e-02 9.47650603e-04\n",
            " 1.43885647e-02 5.22343367e-05 5.38793964e-02 5.30679076e-02\n",
            " 0.00000000e+00 0.00000000e+00 3.48178562e-02 1.04897588e-01\n",
            " 1.36505011e-01 1.35094372e-01 0.00000000e+00 4.32812906e-02]\n"
          ],
          "name": "stdout"
        },
        {
          "output_type": "display_data",
          "data": {
            "image/png": "[encoded data removed]",
            "text/plain": [
              "<Figure size 432x288 with 1 Axes>"
            ]
          },
          "metadata": {
            "tags": []
          }
        }
      ]
    },
    {
      "cell_type": "code",
      "metadata": {
        "id": "0I43Jf6MUS-r",
        "colab_type": "code",
        "colab": {
          "base_uri": "https://localhost:8080/",
          "height": 312
        },
        "outputId": "b69bc76d-442d-411a-91e6-55092f54c0d9"
      },
      "source": [
        "from sklearn.feature_selection import SelectFromModel\n",
        "Xf_train, Xf_test, yf_train, yf_test = train_test_split(X_balance,Y_balance, \n",
        "                                                    stratify=Y_balance, test_size=0.3,\n",
        "                                                    random_state = 10084)\n",
        " #Select features which have higher contribution in the final prediction\n",
        "\n",
        "sfm = SelectFromModel(rf, threshold=0.02) \n",
        "sfm.fit(Xf_train,yf_train)\n"
      ],
      "execution_count": 45,
      "outputs": [
        {
          "output_type": "execute_result",
          "data": {
            "text/plain": [
              "SelectFromModel(estimator=RandomForestClassifier(bootstrap=True, ccp_alpha=0.0,\n",
              "                                                 class_weight=None,\n",
              "                                                 criterion='gini',\n",
              "                                                 max_depth=None,\n",
              "                                                 max_features='auto',\n",
              "                                                 max_leaf_nodes=None,\n",
              "                                                 max_samples=None,\n",
              "                                                 min_impurity_decrease=0.0,\n",
              "                                                 min_impurity_split=None,\n",
              "                                                 min_samples_leaf=1,\n",
              "                                                 min_samples_split=2,\n",
              "                                                 min_weight_fraction_leaf=0.0,\n",
              "                                                 n_estimators=100, n_jobs=None,\n",
              "                                                 oob_score=False,\n",
              "                                                 random_state=None, verbose=0,\n",
              "                                                 warm_start=False),\n",
              "                max_features=None, norm_order=1, prefit=False, threshold=0.02)"
            ]
          },
          "metadata": {
            "tags": []
          },
          "execution_count": 45
        }
      ]
    },
    {
      "cell_type": "code",
      "metadata": {
        "id": "AjUCfJkKUW-L",
        "colab_type": "code",
        "colab": {
          "base_uri": "https://localhost:8080/",
          "height": 52
        },
        "outputId": "4a1dc366-1282-4041-ba02-57559233a3ff"
      },
      "source": [
        "#Transform input dataset\n",
        "\n",
        "Xf_train_1 = sfm.transform(Xf_train) \n",
        "Xf_test_1 = sfm.transform(Xf_test)\n",
        "\n",
        "#Check the size and shape of new dataset \n",
        "print(\"Size of Data set before feature selection: %.2f MB\"%(Xf_train_1.nbytes/1e6))\n",
        "\n",
        "shape = np.shape(Xf_train_1)\n",
        "\n",
        "print(\"Shape of the dataset \",shape)"
      ],
      "execution_count": 47,
      "outputs": [
        {
          "output_type": "stream",
          "text": [
            "Size of Data set before feature selection: 3.70 MB\n",
            "Shape of the dataset  (30863, 15)\n"
          ],
          "name": "stdout"
        }
      ]
    },
    {
      "cell_type": "code",
      "metadata": {
        "id": "7JO_6OgaUa7U",
        "colab_type": "code",
        "colab": {}
      },
      "source": [
        "rf.fit(Xf_train_1, yf_train) \n",
        "\n",
        "#evaluate the model on test data\n",
        "pre = rf.predict(Xf_test_1) "
      ],
      "execution_count": 0,
      "outputs": []
    },
    {
      "cell_type": "code",
      "metadata": {
        "id": "WgbFGuxFUiPT",
        "colab_type": "code",
        "colab": {
          "base_uri": "https://localhost:8080/",
          "height": 317
        },
        "outputId": "6fcca317-e9c0-4270-8423-6f73911fbdb5"
      },
      "source": [
        "print(rf.feature_importances_) #use inbuilt class feature_importances of tree based classifiers\n",
        "#plot graph of feature importances for better visualization\n",
        "feat_importances = pd.Series(rf.feature_importances_)\n",
        "feat_importances.nlargest(10).plot(kind='barh')\n",
        "plt.show()"
      ],
      "execution_count": 49,
      "outputs": [
        {
          "output_type": "stream",
          "text": [
            "[0.02483708 0.05934497 0.02903975 0.05743479 0.02417957 0.0404654\n",
            " 0.04238105 0.04752139 0.06397936 0.06268645 0.03612329 0.12506858\n",
            " 0.16964776 0.1662926  0.05099796]\n"
          ],
          "name": "stdout"
        },
        {
          "output_type": "display_data",
          "data": {
            "image/png": "[encoded data removed]",
            "text/plain": [
              "<Figure size 432x288 with 1 Axes>"
            ]
          },
          "metadata": {
            "tags": []
          }
        }
      ]
    },
    {
      "cell_type": "code",
      "metadata": {
        "id": "1vCF7-GkUnLI",
        "colab_type": "code",
        "colab": {
          "base_uri": "https://localhost:8080/",
          "height": 401
        },
        "outputId": "6edd0079-0b62-494c-94b9-8cb917fab7bb"
      },
      "source": [
        "evalPerformance(pre,yf_test)\n",
        "#Precision recall curve for Random forest\n",
        "ns_probs = [0 for _ in range(len(yf_test))]\n",
        "rf.fit(Xf_train_1, yf_train)\n",
        "lr_probs = rf.predict_proba(Xf_test_1)\n",
        "# keep probabilities for the positive outcome only\n",
        "lr_probs = lr_probs[:, 1]\n",
        "# calculate scores\n",
        "ns_auc = roc_auc_score(yf_test, ns_probs)\n",
        "lr_auc = roc_auc_score(yf_test, lr_probs)\n",
        "# summarize scores\n",
        "print('No Skill: ROC AUC=%.3f' % (ns_auc))\n",
        "print('Random forest: ROC AUC=%.3f' % (lr_auc))\n",
        "# calculate roc curves\n",
        "ns_fpr, ns_tpr, _ = roc_curve(yf_test, ns_probs)\n",
        "lr_fpr, lr_tpr, _ = roc_curve(yf_test, lr_probs)\n",
        "# plot the roc curve for the model\n",
        "pyplot.plot(ns_fpr, ns_tpr, linestyle='--', label='No Skill')\n",
        "pyplot.plot(lr_fpr, lr_tpr, marker='.', label='Random forest')\n",
        "# axis labels\n",
        "pyplot.xlabel('False Positive Rate')\n",
        "pyplot.ylabel('True Positive Rate')\n",
        "# show the legend\n",
        "pyplot.legend()\n",
        "# show the plot\n",
        "pyplot.show()"
      ],
      "execution_count": 50,
      "outputs": [
        {
          "output_type": "stream",
          "text": [
            " Accuracy is : 0.9170635820669842\n",
            " Precision is : 0.91264023934181\n",
            " Recall is : 0.9224372543090414\n",
            " F Measure is : 0.9175125949319498\n",
            "\n",
            "No Skill: ROC AUC=0.500\n",
            "Random forest: ROC AUC=0.965\n"
          ],
          "name": "stdout"
        },
        {
          "output_type": "display_data",
          "data": {
            "image/png": "[encoded data removed]",
            "text/plain": [
              "<Figure size 432x288 with 1 Axes>"
            ]
          },
          "metadata": {
            "tags": []
          }
        }
      ]
    },
    {
      "cell_type": "code",
      "metadata": {
        "id": "nzI3GWotUoB3",
        "colab_type": "code",
        "colab": {
          "base_uri": "https://localhost:8080/",
          "height": 202
        },
        "outputId": "20ceb932-0d61-4521-a365-349c317b6608"
      },
      "source": [
        "#Table of Probability of defaults\n",
        "preds_df = pd.DataFrame(lr_probs, columns = ['prob_default'])\n",
        "true_df = pd.DataFrame(yf_test, columns = ['true data'])\n",
        "\n",
        "# Concatenate and print the two data frames for comparison\n",
        "concate_data = pd.concat([true_df, preds_df])\n",
        "preds_df.head()"
      ],
      "execution_count": 52,
      "outputs": [
        {
          "output_type": "execute_result",
          "data": {
            "text/html": [
              "<div>\n",
              "<style scoped>\n",
              "    .dataframe tbody tr th:only-of-type {\n",
              "        vertical-align: middle;\n",
              "    }\n",
              "\n",
              "    .dataframe tbody tr th {\n",
              "        vertical-align: top;\n",
              "    }\n",
              "\n",
              "    .dataframe thead th {\n",
              "        text-align: right;\n",
              "    }\n",
              "</style>\n",
              "<table border=\"1\" class=\"dataframe\">\n",
              "  <thead>\n",
              "    <tr style=\"text-align: right;\">\n",
              "      <th></th>\n",
              "      <th>prob_default</th>\n",
              "    </tr>\n",
              "  </thead>\n",
              "  <tbody>\n",
              "    <tr>\n",
              "      <th>0</th>\n",
              "      <td>0.060000</td>\n",
              "    </tr>\n",
              "    <tr>\n",
              "      <th>1</th>\n",
              "      <td>0.123619</td>\n",
              "    </tr>\n",
              "    <tr>\n",
              "      <th>2</th>\n",
              "      <td>0.808877</td>\n",
              "    </tr>\n",
              "    <tr>\n",
              "      <th>3</th>\n",
              "      <td>0.000000</td>\n",
              "    </tr>\n",
              "    <tr>\n",
              "      <th>4</th>\n",
              "      <td>0.023333</td>\n",
              "    </tr>\n",
              "  </tbody>\n",
              "</table>\n",
              "</div>"
            ],
            "text/plain": [
              "   prob_default\n",
              "0      0.060000\n",
              "1      0.123619\n",
              "2      0.808877\n",
              "3      0.000000\n",
              "4      0.023333"
            ]
          },
          "metadata": {
            "tags": []
          },
          "execution_count": 52
        }
      ]
    }
  ]
}